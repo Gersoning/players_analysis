{
 "cells": [
  {
   "cell_type": "markdown",
   "id": "06f0ea93-9dd5-4515-863b-90d254a9e685",
   "metadata": {
    "tags": []
   },
   "source": [
    "# Importing libraries"
   ]
  },
  {
   "cell_type": "code",
   "execution_count": 5,
   "id": "dbd347fb-a643-4047-aa17-cf52249c0e3c",
   "metadata": {
    "execution": {
     "iopub.execute_input": "2022-08-04T02:32:08.542437Z",
     "iopub.status.busy": "2022-08-04T02:32:08.542437Z",
     "iopub.status.idle": "2022-08-04T02:32:08.559037Z",
     "shell.execute_reply": "2022-08-04T02:32:08.558071Z",
     "shell.execute_reply.started": "2022-08-04T02:32:08.542437Z"
    },
    "tags": []
   },
   "outputs": [],
   "source": [
    "import pandas as pd\n",
    "import warnings\n",
    "warnings.filterwarnings(\"ignore\")"
   ]
  },
  {
   "cell_type": "markdown",
   "id": "50857f65-1ee4-4208-88e8-660235623127",
   "metadata": {
    "tags": []
   },
   "source": [
    "## Loading datasets"
   ]
  },
  {
   "cell_type": "markdown",
   "id": "33bd92de-ffe4-457c-b9e9-8930c008043e",
   "metadata": {
    "execution": {
     "iopub.execute_input": "2022-08-04T03:32:48.383732Z",
     "iopub.status.busy": "2022-08-04T03:32:48.383732Z",
     "iopub.status.idle": "2022-08-04T03:32:48.393451Z",
     "shell.execute_reply": "2022-08-04T03:32:48.391898Z",
     "shell.execute_reply.started": "2022-08-04T03:32:48.383732Z"
    },
    "tags": []
   },
   "source": [
    "<div style=\"color:white;\n",
    "            display:fill;\n",
    "            border-radius:10px;\n",
    "            background-color:#011f4b;\n",
    "            font-size:100%;\n",
    "            font-family:sans-serif;\n",
    "            letter-spacing:0.9px\">\n",
    "    <p style=\"padding: 10px;color:white;\">\n",
    "        <b>👉 | About the dataset</b></p>\n",
    "</div>"
   ]
  },
  {
   "cell_type": "code",
   "execution_count": 6,
   "id": "f913cd41-4d46-4204-9c33-ea54c9c0f802",
   "metadata": {
    "execution": {
     "iopub.execute_input": "2022-08-04T02:32:11.625606Z",
     "iopub.status.busy": "2022-08-04T02:32:11.625606Z",
     "iopub.status.idle": "2022-08-04T02:32:12.174126Z",
     "shell.execute_reply": "2022-08-04T02:32:12.173608Z",
     "shell.execute_reply.started": "2022-08-04T02:32:11.625606Z"
    },
    "tags": []
   },
   "outputs": [],
   "source": [
    "path = 'C:\\Projects\\Python\\Data\\players_22.csv.zip'\n",
    "df = pd.read_csv(path)"
   ]
  },
  {
   "cell_type": "code",
   "execution_count": 7,
   "id": "929d2c30-15da-4cfa-ba60-2d4e4bac7b0d",
   "metadata": {
    "execution": {
     "iopub.execute_input": "2022-08-04T02:32:19.014440Z",
     "iopub.status.busy": "2022-08-04T02:32:19.014440Z",
     "iopub.status.idle": "2022-08-04T02:32:19.047565Z",
     "shell.execute_reply": "2022-08-04T02:32:19.047565Z",
     "shell.execute_reply.started": "2022-08-04T02:32:19.014440Z"
    },
    "tags": []
   },
   "outputs": [
    {
     "data": {
      "text/html": [
       "<div>\n",
       "<style scoped>\n",
       "    .dataframe tbody tr th:only-of-type {\n",
       "        vertical-align: middle;\n",
       "    }\n",
       "\n",
       "    .dataframe tbody tr th {\n",
       "        vertical-align: top;\n",
       "    }\n",
       "\n",
       "    .dataframe thead th {\n",
       "        text-align: right;\n",
       "    }\n",
       "</style>\n",
       "<table border=\"1\" class=\"dataframe\">\n",
       "  <thead>\n",
       "    <tr style=\"text-align: right;\">\n",
       "      <th></th>\n",
       "      <th>sofifa_id</th>\n",
       "      <th>player_url</th>\n",
       "      <th>short_name</th>\n",
       "      <th>long_name</th>\n",
       "      <th>player_positions</th>\n",
       "      <th>overall</th>\n",
       "      <th>potential</th>\n",
       "      <th>value_eur</th>\n",
       "      <th>wage_eur</th>\n",
       "      <th>age</th>\n",
       "      <th>...</th>\n",
       "      <th>lcb</th>\n",
       "      <th>cb</th>\n",
       "      <th>rcb</th>\n",
       "      <th>rb</th>\n",
       "      <th>gk</th>\n",
       "      <th>player_face_url</th>\n",
       "      <th>club_logo_url</th>\n",
       "      <th>club_flag_url</th>\n",
       "      <th>nation_logo_url</th>\n",
       "      <th>nation_flag_url</th>\n",
       "    </tr>\n",
       "  </thead>\n",
       "  <tbody>\n",
       "    <tr>\n",
       "      <th>0</th>\n",
       "      <td>158023</td>\n",
       "      <td>https://sofifa.com/player/158023/lionel-messi/...</td>\n",
       "      <td>L. Messi</td>\n",
       "      <td>Lionel Andrés Messi Cuccittini</td>\n",
       "      <td>RW, ST, CF</td>\n",
       "      <td>93</td>\n",
       "      <td>93</td>\n",
       "      <td>78000000.0</td>\n",
       "      <td>320000.0</td>\n",
       "      <td>34</td>\n",
       "      <td>...</td>\n",
       "      <td>50+3</td>\n",
       "      <td>50+3</td>\n",
       "      <td>50+3</td>\n",
       "      <td>61+3</td>\n",
       "      <td>19+3</td>\n",
       "      <td>https://cdn.sofifa.net/players/158/023/22_120.png</td>\n",
       "      <td>https://cdn.sofifa.net/teams/73/60.png</td>\n",
       "      <td>https://cdn.sofifa.net/flags/fr.png</td>\n",
       "      <td>https://cdn.sofifa.net/teams/1369/60.png</td>\n",
       "      <td>https://cdn.sofifa.net/flags/ar.png</td>\n",
       "    </tr>\n",
       "    <tr>\n",
       "      <th>1</th>\n",
       "      <td>188545</td>\n",
       "      <td>https://sofifa.com/player/188545/robert-lewand...</td>\n",
       "      <td>R. Lewandowski</td>\n",
       "      <td>Robert Lewandowski</td>\n",
       "      <td>ST</td>\n",
       "      <td>92</td>\n",
       "      <td>92</td>\n",
       "      <td>119500000.0</td>\n",
       "      <td>270000.0</td>\n",
       "      <td>32</td>\n",
       "      <td>...</td>\n",
       "      <td>60+3</td>\n",
       "      <td>60+3</td>\n",
       "      <td>60+3</td>\n",
       "      <td>61+3</td>\n",
       "      <td>19+3</td>\n",
       "      <td>https://cdn.sofifa.net/players/188/545/22_120.png</td>\n",
       "      <td>https://cdn.sofifa.net/teams/21/60.png</td>\n",
       "      <td>https://cdn.sofifa.net/flags/de.png</td>\n",
       "      <td>https://cdn.sofifa.net/teams/1353/60.png</td>\n",
       "      <td>https://cdn.sofifa.net/flags/pl.png</td>\n",
       "    </tr>\n",
       "    <tr>\n",
       "      <th>2</th>\n",
       "      <td>20801</td>\n",
       "      <td>https://sofifa.com/player/20801/c-ronaldo-dos-...</td>\n",
       "      <td>Cristiano Ronaldo</td>\n",
       "      <td>Cristiano Ronaldo dos Santos Aveiro</td>\n",
       "      <td>ST, LW</td>\n",
       "      <td>91</td>\n",
       "      <td>91</td>\n",
       "      <td>45000000.0</td>\n",
       "      <td>270000.0</td>\n",
       "      <td>36</td>\n",
       "      <td>...</td>\n",
       "      <td>53+3</td>\n",
       "      <td>53+3</td>\n",
       "      <td>53+3</td>\n",
       "      <td>60+3</td>\n",
       "      <td>20+3</td>\n",
       "      <td>https://cdn.sofifa.net/players/020/801/22_120.png</td>\n",
       "      <td>https://cdn.sofifa.net/teams/11/60.png</td>\n",
       "      <td>https://cdn.sofifa.net/flags/gb-eng.png</td>\n",
       "      <td>https://cdn.sofifa.net/teams/1354/60.png</td>\n",
       "      <td>https://cdn.sofifa.net/flags/pt.png</td>\n",
       "    </tr>\n",
       "  </tbody>\n",
       "</table>\n",
       "<p>3 rows × 110 columns</p>\n",
       "</div>"
      ],
      "text/plain": [
       "   sofifa_id                                         player_url  \\\n",
       "0     158023  https://sofifa.com/player/158023/lionel-messi/...   \n",
       "1     188545  https://sofifa.com/player/188545/robert-lewand...   \n",
       "2      20801  https://sofifa.com/player/20801/c-ronaldo-dos-...   \n",
       "\n",
       "          short_name                            long_name player_positions  \\\n",
       "0           L. Messi       Lionel Andrés Messi Cuccittini       RW, ST, CF   \n",
       "1     R. Lewandowski                   Robert Lewandowski               ST   \n",
       "2  Cristiano Ronaldo  Cristiano Ronaldo dos Santos Aveiro           ST, LW   \n",
       "\n",
       "   overall  potential    value_eur  wage_eur  age  ...   lcb    cb   rcb  \\\n",
       "0       93         93   78000000.0  320000.0   34  ...  50+3  50+3  50+3   \n",
       "1       92         92  119500000.0  270000.0   32  ...  60+3  60+3  60+3   \n",
       "2       91         91   45000000.0  270000.0   36  ...  53+3  53+3  53+3   \n",
       "\n",
       "     rb    gk                                    player_face_url  \\\n",
       "0  61+3  19+3  https://cdn.sofifa.net/players/158/023/22_120.png   \n",
       "1  61+3  19+3  https://cdn.sofifa.net/players/188/545/22_120.png   \n",
       "2  60+3  20+3  https://cdn.sofifa.net/players/020/801/22_120.png   \n",
       "\n",
       "                            club_logo_url  \\\n",
       "0  https://cdn.sofifa.net/teams/73/60.png   \n",
       "1  https://cdn.sofifa.net/teams/21/60.png   \n",
       "2  https://cdn.sofifa.net/teams/11/60.png   \n",
       "\n",
       "                             club_flag_url  \\\n",
       "0      https://cdn.sofifa.net/flags/fr.png   \n",
       "1      https://cdn.sofifa.net/flags/de.png   \n",
       "2  https://cdn.sofifa.net/flags/gb-eng.png   \n",
       "\n",
       "                            nation_logo_url  \\\n",
       "0  https://cdn.sofifa.net/teams/1369/60.png   \n",
       "1  https://cdn.sofifa.net/teams/1353/60.png   \n",
       "2  https://cdn.sofifa.net/teams/1354/60.png   \n",
       "\n",
       "                       nation_flag_url  \n",
       "0  https://cdn.sofifa.net/flags/ar.png  \n",
       "1  https://cdn.sofifa.net/flags/pl.png  \n",
       "2  https://cdn.sofifa.net/flags/pt.png  \n",
       "\n",
       "[3 rows x 110 columns]"
      ]
     },
     "execution_count": 7,
     "metadata": {},
     "output_type": "execute_result"
    }
   ],
   "source": [
    "# pd.set_option('display.max_columns', None)\n",
    "df.head(3)"
   ]
  },
  {
   "cell_type": "code",
   "execution_count": 8,
   "id": "7c698266-75ea-427f-bf7c-2381a27af58f",
   "metadata": {
    "execution": {
     "iopub.execute_input": "2022-08-04T02:32:36.990414Z",
     "iopub.status.busy": "2022-08-04T02:32:36.990414Z",
     "iopub.status.idle": "2022-08-04T02:32:37.014619Z",
     "shell.execute_reply": "2022-08-04T02:32:37.013542Z",
     "shell.execute_reply.started": "2022-08-04T02:32:36.990414Z"
    },
    "tags": []
   },
   "outputs": [
    {
     "data": {
      "text/plain": [
       "Index(['sofifa_id', 'player_url', 'short_name', 'long_name',\n",
       "       'player_positions', 'overall', 'potential', 'value_eur', 'wage_eur',\n",
       "       'age',\n",
       "       ...\n",
       "       'lcb', 'cb', 'rcb', 'rb', 'gk', 'player_face_url', 'club_logo_url',\n",
       "       'club_flag_url', 'nation_logo_url', 'nation_flag_url'],\n",
       "      dtype='object', length=110)"
      ]
     },
     "execution_count": 8,
     "metadata": {},
     "output_type": "execute_result"
    }
   ],
   "source": [
    "df.columns"
   ]
  },
  {
   "cell_type": "code",
   "execution_count": 10,
   "id": "a4654927-d7be-422a-b704-f1d665d22170",
   "metadata": {
    "execution": {
     "iopub.execute_input": "2022-08-04T02:33:07.359839Z",
     "iopub.status.busy": "2022-08-04T02:33:07.359839Z",
     "iopub.status.idle": "2022-08-04T02:33:07.421422Z",
     "shell.execute_reply": "2022-08-04T02:33:07.421422Z",
     "shell.execute_reply.started": "2022-08-04T02:33:07.359839Z"
    },
    "tags": []
   },
   "outputs": [
    {
     "data": {
      "text/plain": [
       "Index(['name', 'pos', 'pace', 'shooting', 'passing', 'dribbling', 'defending',\n",
       "       'physic', 'attacking_crossing', 'attacking_finishing',\n",
       "       'attacking_heading_accuracy', 'attacking_short_passing',\n",
       "       'attacking_volleys', 'skill_dribbling', 'skill_curve',\n",
       "       'skill_fk_accuracy', 'skill_long_passing', 'skill_ball_control',\n",
       "       'movement_acceleration', 'movement_sprint_speed', 'movement_agility',\n",
       "       'movement_reactions', 'movement_balance', 'power_shot_power',\n",
       "       'power_jumping', 'power_stamina', 'power_strength', 'power_long_shots',\n",
       "       'mentality_aggression', 'mentality_interceptions',\n",
       "       'mentality_positioning', 'mentality_vision', 'mentality_penalties',\n",
       "       'mentality_composure', 'defending_marking_awareness',\n",
       "       'defending_standing_tackle', 'defending_sliding_tackle'],\n",
       "      dtype='object')"
      ]
     },
     "execution_count": 10,
     "metadata": {},
     "output_type": "execute_result"
    }
   ],
   "source": [
    "stats = df.columns[37:72].tolist()\n",
    "data = df[stats]\n",
    "data['name'] = df['long_name']\n",
    "data['pos'] = df['player_positions']\n",
    "cols = [data.columns[-2]] + [data.columns[-1]] + stats\n",
    "data = data[cols]\n",
    "data.columns"
   ]
  },
  {
   "cell_type": "code",
   "execution_count": 13,
   "id": "1dcb71c5-2ca1-4a86-88b1-e575bfdd66b2",
   "metadata": {
    "execution": {
     "iopub.execute_input": "2022-08-04T02:33:45.250515Z",
     "iopub.status.busy": "2022-08-04T02:33:45.250515Z",
     "iopub.status.idle": "2022-08-04T02:33:45.262269Z",
     "shell.execute_reply": "2022-08-04T02:33:45.261256Z",
     "shell.execute_reply.started": "2022-08-04T02:33:45.250515Z"
    },
    "tags": []
   },
   "outputs": [
    {
     "data": {
      "text/plain": [
       "(19239, 37)"
      ]
     },
     "execution_count": 13,
     "metadata": {},
     "output_type": "execute_result"
    }
   ],
   "source": [
    "data.shape"
   ]
  },
  {
   "cell_type": "code",
   "execution_count": 14,
   "id": "4f38090f-6aed-4d78-bfc7-4f756761c382",
   "metadata": {
    "execution": {
     "iopub.execute_input": "2022-08-04T02:33:55.363357Z",
     "iopub.status.busy": "2022-08-04T02:33:55.363357Z",
     "iopub.status.idle": "2022-08-04T02:33:55.392409Z",
     "shell.execute_reply": "2022-08-04T02:33:55.391374Z",
     "shell.execute_reply.started": "2022-08-04T02:33:55.363357Z"
    },
    "tags": []
   },
   "outputs": [
    {
     "data": {
      "text/plain": [
       "name                              0\n",
       "pos                               0\n",
       "pace                           2132\n",
       "shooting                       2132\n",
       "passing                        2132\n",
       "dribbling                      2132\n",
       "defending                      2132\n",
       "physic                         2132\n",
       "attacking_crossing                0\n",
       "attacking_finishing               0\n",
       "attacking_heading_accuracy        0\n",
       "attacking_short_passing           0\n",
       "attacking_volleys                 0\n",
       "skill_dribbling                   0\n",
       "skill_curve                       0\n",
       "skill_fk_accuracy                 0\n",
       "skill_long_passing                0\n",
       "skill_ball_control                0\n",
       "movement_acceleration             0\n",
       "movement_sprint_speed             0\n",
       "movement_agility                  0\n",
       "movement_reactions                0\n",
       "movement_balance                  0\n",
       "power_shot_power                  0\n",
       "power_jumping                     0\n",
       "power_stamina                     0\n",
       "power_strength                    0\n",
       "power_long_shots                  0\n",
       "mentality_aggression              0\n",
       "mentality_interceptions           0\n",
       "mentality_positioning             0\n",
       "mentality_vision                  0\n",
       "mentality_penalties               0\n",
       "mentality_composure               0\n",
       "defending_marking_awareness       0\n",
       "defending_standing_tackle         0\n",
       "defending_sliding_tackle          0\n",
       "dtype: int64"
      ]
     },
     "execution_count": 14,
     "metadata": {},
     "output_type": "execute_result"
    }
   ],
   "source": [
    "data.isna().sum()"
   ]
  },
  {
   "cell_type": "code",
   "execution_count": 15,
   "id": "48124504-c564-4c3d-8989-e994854669e0",
   "metadata": {
    "execution": {
     "iopub.execute_input": "2022-08-04T02:33:59.635545Z",
     "iopub.status.busy": "2022-08-04T02:33:59.635545Z",
     "iopub.status.idle": "2022-08-04T02:33:59.710126Z",
     "shell.execute_reply": "2022-08-04T02:33:59.710126Z",
     "shell.execute_reply.started": "2022-08-04T02:33:59.635545Z"
    },
    "tags": []
   },
   "outputs": [
    {
     "data": {
      "text/plain": [
       "GK    2132\n",
       "Name: pos, dtype: int64"
      ]
     },
     "execution_count": 15,
     "metadata": {},
     "output_type": "execute_result"
    }
   ],
   "source": [
    "data[data['pace'].isna()]['pos'].value_counts()"
   ]
  },
  {
   "cell_type": "code",
   "execution_count": 16,
   "id": "3cb12ec2-5895-4e42-a523-c1fd89157ba3",
   "metadata": {
    "execution": {
     "iopub.execute_input": "2022-08-04T02:34:53.608855Z",
     "iopub.status.busy": "2022-08-04T02:34:53.600841Z",
     "iopub.status.idle": "2022-08-04T02:34:53.663677Z",
     "shell.execute_reply": "2022-08-04T02:34:53.663677Z",
     "shell.execute_reply.started": "2022-08-04T02:34:53.608855Z"
    },
    "tags": []
   },
   "outputs": [],
   "source": [
    "data = data[data['pos']!='GK']"
   ]
  },
  {
   "cell_type": "code",
   "execution_count": 18,
   "id": "9d94de1b-d169-4fc4-a2bf-bedfc30a3ca9",
   "metadata": {
    "execution": {
     "iopub.execute_input": "2022-08-04T02:35:16.633523Z",
     "iopub.status.busy": "2022-08-04T02:35:16.633523Z",
     "iopub.status.idle": "2022-08-04T02:35:16.649525Z",
     "shell.execute_reply": "2022-08-04T02:35:16.649525Z",
     "shell.execute_reply.started": "2022-08-04T02:35:16.633523Z"
    },
    "tags": []
   },
   "outputs": [
    {
     "data": {
      "text/plain": [
       "0"
      ]
     },
     "execution_count": 18,
     "metadata": {},
     "output_type": "execute_result"
    }
   ],
   "source": [
    "data['name'].isna().sum()"
   ]
  },
  {
   "cell_type": "code",
   "execution_count": null,
   "id": "a7eb70ce-099c-42a0-8a54-d9b62789c234",
   "metadata": {},
   "outputs": [],
   "source": [
    "from sklearn"
   ]
  },
  {
   "cell_type": "code",
   "execution_count": null,
   "id": "6832c1d1-d356-4ece-95ac-6c11b19327d7",
   "metadata": {},
   "outputs": [],
   "source": []
  },
  {
   "cell_type": "code",
   "execution_count": null,
   "id": "ffc2ebbb-7dfd-4e9c-a3c2-43449b410f5a",
   "metadata": {},
   "outputs": [],
   "source": []
  },
  {
   "cell_type": "code",
   "execution_count": null,
   "id": "135313c2-1443-4cd5-90d5-fcbc0425dd6d",
   "metadata": {},
   "outputs": [],
   "source": []
  }
 ],
 "metadata": {
  "kernelspec": {
   "display_name": "Python 3 (ipykernel)",
   "language": "python",
   "name": "python3"
  },
  "language_info": {
   "codemirror_mode": {
    "name": "ipython",
    "version": 3
   },
   "file_extension": ".py",
   "mimetype": "text/x-python",
   "name": "python",
   "nbconvert_exporter": "python",
   "pygments_lexer": "ipython3",
   "version": "3.10.2"
  }
 },
 "nbformat": 4,
 "nbformat_minor": 5
}
